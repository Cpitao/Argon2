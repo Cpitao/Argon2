{
 "cells": [
  {
   "cell_type": "code",
   "execution_count": 1,
   "id": "249c6f7c",
   "metadata": {},
   "outputs": [],
   "source": [
    "from Crypto.Util.number import *\n",
    "from Crypto.Hash import BLAKE2b\n",
    "import math"
   ]
  },
  {
   "cell_type": "code",
   "execution_count": 2,
   "id": "b1494d44",
   "metadata": {},
   "outputs": [],
   "source": [
    "def xor(ba1, ba2): # OK (?)\n",
    "    return (int.from_bytes(ba1, 'little') ^ int.from_bytes(ba2, 'little')).to_bytes(max(len(ba1), len(ba2)), 'little')\n",
    "\n",
    "def print_LE_hex(bs):\n",
    "    print(\"\".join(reversed([bs[2*i:2*i+2] for i in range(0, len(bs)//2)])))\n",
    "\n",
    "def print_32byte_hex_block(block, number='xxxx'):\n",
    "    number = str(number)\n",
    "    for i in range(len(block)//16):\n",
    "        if number != 'xxxx':\n",
    "            print(f\"Block {number:0>4} [{i:>3}]:\", end=' ')\n",
    "        else:\n",
    "            print(f\"Block xxxx:\", end=' ')\n",
    "        print_LE_hex(block[16 * i:16 * (i+1)])"
   ]
  },
  {
   "cell_type": "code",
   "execution_count": 3,
   "id": "11638186",
   "metadata": {},
   "outputs": [],
   "source": [
    "# RFC H' function\n",
    "def Hash(message: bytes, outSize: int):\n",
    "    if outSize <= 64:\n",
    "        return bytes.fromhex(BLAKE2b.new(data=(outSize.to_bytes(4, \"little\") + message),\n",
    "                                         digest_bytes=outSize).hexdigest())\n",
    "    r = math.ceil(outSize/32) - 2\n",
    "    \n",
    "    Vs = [bytes.fromhex(BLAKE2b.new(data=(outSize.to_bytes(4, \"little\") + message),\n",
    "                                    digest_bytes=64).hexdigest())]\n",
    "    for i in range(r-1):\n",
    "        Vs.append(bytes.fromhex(BLAKE2b.new(data=(Vs[-1]),\n",
    "                                            digest_bytes=64).hexdigest()))\n",
    "    \n",
    "    bytesNeeded = outSize - 32 * r\n",
    "    Vs.append(bytes.fromhex(BLAKE2b.new(data=(Vs[-1]),\n",
    "                                        digest_bytes=bytesNeeded).hexdigest()))\n",
    "    \n",
    "    result = bytes()\n",
    "    for i in range(len(Vs) - 1):\n",
    "        result += Vs[i][:32]\n",
    "    result += Vs[-1]\n",
    "    return result"
   ]
  },
  {
   "cell_type": "code",
   "execution_count": 4,
   "id": "926bea8c",
   "metadata": {},
   "outputs": [],
   "source": [
    "# Permutation P as defined in RFC\n",
    "def P(*Ss):\n",
    "    Ss = list(Ss)\n",
    "    vs = [None] * 16\n",
    "    for i in range(8):\n",
    "        vs[2*i], vs[2*i+1] = int.from_bytes(Ss[i][:8], \"little\"), int.from_bytes(Ss[i][8:16], \"little\")\n",
    "    vs[0], vs[4], vs[8], vs[12] = GB(vs[0], vs[4], vs[8], vs[12])\n",
    "    vs[1], vs[5], vs[9], vs[13] = GB(vs[1], vs[5], vs[9], vs[13])\n",
    "    vs[2], vs[6], vs[10], vs[14] = GB(vs[2], vs[6], vs[10], vs[14])\n",
    "    vs[3], vs[7], vs[11], vs[15] = GB(vs[3], vs[7], vs[11], vs[15])\n",
    "    vs[0], vs[5], vs[10], vs[15] = GB(vs[0], vs[5], vs[10], vs[15])\n",
    "    vs[1], vs[6], vs[11], vs[12] = GB(vs[1], vs[6], vs[11], vs[12])\n",
    "    vs[2], vs[7], vs[8], vs[13] = GB(vs[2], vs[7], vs[8], vs[13])\n",
    "    vs[3], vs[4], vs[9], vs[14] = GB(vs[3], vs[4], vs[9], vs[14])\n",
    "    for i in range(len(Ss)):\n",
    "        Ss[i] = vs[2*i].to_bytes(8, 'little') + vs[2*i+1].to_bytes(8, 'little')\n",
    "    return Ss\n",
    "\n",
    "# rotate 64-bit number by n bits to the right\n",
    "def rotate(x: int, n: int): # 64-bit - works\n",
    "    return ((x >> n) | (x << (64 - n))) & ((1 << 64) - 1)\n",
    "\n",
    "def GB(a, b, c, d):\n",
    "    ones_64 = (1 << 64) - 1\n",
    "    a = (a + b + 2 * (a & 0xffffffff) * (b & 0xffffffff)) & ones_64\n",
    "    d = rotate(d ^ a, 32)\n",
    "    c = (c + d + 2 * (c & 0xffffffff) * (d & 0xffffffff)) & ones_64\n",
    "    b = rotate(b ^ c, 24)\n",
    "    \n",
    "    a = (a + b + 2 * (a & 0xffffffff) * (b & 0xffffffff)) & ones_64\n",
    "    d = rotate(d ^ a, 16)\n",
    "    c = (c + d + 2 * (c & 0xffffffff) * (d & 0xffffffff)) & ones_64\n",
    "    b = rotate(b ^ c, 63)\n",
    "    \n",
    "\n",
    "    return a, b, c, d"
   ]
  },
  {
   "cell_type": "code",
   "execution_count": 5,
   "id": "d53c9e81",
   "metadata": {},
   "outputs": [],
   "source": [
    "def G(X: bytes, Y: bytes):\n",
    "    R = xor(X, Y)\n",
    "    Q = []\n",
    "    for i in range(0, 64, 8):\n",
    "        new = P(R[i*16 : (i+1)*16],\n",
    "                R[(i+1)*16 : (i+2)*16],\n",
    "                R[(i+2)*16 : (i+3)*16],\n",
    "                R[(i+3)*16 : (i+4)*16],\n",
    "                R[(i+4)*16 : (i+5)*16],\n",
    "                R[(i+5)*16 : (i+6)*16],\n",
    "                R[(i+6)*16 : (i+7)*16],\n",
    "                R[(i+7)*16 : (i+8)*16]\n",
    "               )\n",
    "        for q in new:\n",
    "            Q.append(q)\n",
    "    Z = [None] * 64\n",
    "    for i in range(8):\n",
    "        Z_row = P(Q[i], Q[i+8], Q[i+16], Q[i+24], Q[i+32], Q[i+40], Q[i+48], Q[i+56])\n",
    "        for j, element in enumerate(Z_row):\n",
    "            Z[i + 8*j] = element\n",
    "    finalBlock = b''.join(Z)\n",
    "    return xor(finalBlock, R)"
   ]
  },
  {
   "cell_type": "code",
   "execution_count": 6,
   "id": "2408987f",
   "metadata": {},
   "outputs": [],
   "source": [
    "def log(B, very_verbose):\n",
    "    if very_verbose:\n",
    "        for i in range(len(B)):\n",
    "            for j in range(len(B[i])):\n",
    "                print_32byte_hex_block(B[i][j].hex(), i*len(B[0])+j)\n",
    "    else:\n",
    "        print(\"Block 0000 [  1]:\", end=' ')\n",
    "        print_LE_hex(B[0][0].hex()[:16])\n",
    "        print(\"Last block [127]:\", end=' ')\n",
    "        print_LE_hex(B[-1][-1].hex()[-16:])\n",
    "\n",
    "def argon2(password: bytes, salt: bytes, threads: int, outLen: int,\n",
    "           memorySize: int, iterations: int, version=0x13, key=bytes(), data=bytes(), hashType=0, debug=False,\n",
    "          very_verbose=False):\n",
    "    # RFC9106 names to arg names\n",
    "    # P - password (message string)\n",
    "    # S - salt\n",
    "    # p - threads\n",
    "    # T (Tag length) - outLen\n",
    "    # m - memorySize\n",
    "    # t - iterations\n",
    "    # v - version\n",
    "    # K (secret value) - key\n",
    "    # X (associated data) - data\n",
    "    # y - hashType (Argon2d/Argon2i/Argon2id) - only Argon2d implemented\n",
    "    \n",
    "    # an attempt to convert RFC docs to code\n",
    "    def GetBlockIndexes(i, j, iteration):\n",
    "        if j > 0 or iteration > 1:\n",
    "            J1, J2 = int.from_bytes(B[i][j-1][:4], \"little\"), int.from_bytes(B[i][j-1][4:8], \"little\")\n",
    "            l = J2 % threads\n",
    "\n",
    "        # compiling https://orbilu.uni.lu/bitstream/10993/31652/1/Argon2ESP.pdf (doc 1)\n",
    "        # and https://www.rfc-editor.org/rfc/rfc9106.html#name-deriving-j1j2-in-argon2d (doc 2)\n",
    "        # together I think it'll be something like this\n",
    "        current_slice = j // (columnCount // 4)\n",
    "        if current_slice == 0 and iteration == 1:\n",
    "            l = i\n",
    "\n",
    "        slice_length = columnCount // 4\n",
    "        if iteration > 1:\n",
    "            if l == i or current_slice == 0: # same lane\n",
    "                W_size = columnCount - slice_length + j - current_slice * slice_length - 1\n",
    "            elif j == slice_length * current_slice: # first block in segment\n",
    "                W_size = columnCount - slice_length - 1\n",
    "            else: # other lane\n",
    "                W_size = columnCount - slice_length\n",
    "        else:\n",
    "            if current_slice == 0: # first slice, first iteration\n",
    "                W_size = j - 1\n",
    "            elif j == slice_length * current_slice: # first block in not first slice\n",
    "                W_size = current_slice * slice_length - 1\n",
    "            else:\n",
    "                W_size = current_slice * slice_length\n",
    "\n",
    "        # now with W_size calculation complete, we can get the block indices:\n",
    "        # according to RFC:\n",
    "        x = (J1 ** 2) >> 32\n",
    "        y = (W_size * x) >> 32\n",
    "        zz = W_size - 1 - y\n",
    "        \n",
    "        z = slice_length * (current_slice+1) if iteration > 1 and current_slice != 3 else 0\n",
    "        z = (z + zz) % columnCount\n",
    "        return l, z\n",
    "            \n",
    "    if memorySize < 8 * threads:\n",
    "        raise Exception(\"MemorySize arg must be greater than 4*threads\")\n",
    "    if iterations < 1:\n",
    "        raise Exception(\"Iterations count must be positive\")\n",
    "        \n",
    "\n",
    "    buffer = threads.to_bytes(4, \"little\") + outLen.to_bytes(4, \"little\") + memorySize.to_bytes(4, \"little\") + \\\n",
    "        iterations.to_bytes(4, \"little\") + version.to_bytes(4, \"little\") + hashType.to_bytes(4, \"little\") + \\\n",
    "        len(password).to_bytes(4, \"little\") + password + \\\n",
    "        len(salt).to_bytes(4, \"little\") + salt + \\\n",
    "        len(key).to_bytes(4, \"little\") + key + \\\n",
    "        len(data).to_bytes(4, \"little\") + data\n",
    "\n",
    "    H0 = bytes.fromhex(BLAKE2b.new(data=buffer, digest_bytes=64).hexdigest())\n",
    "    \n",
    "    if debug:\n",
    "        print(\"Initial digest\", H0.hex())\n",
    "    \n",
    "    blockCount = 4 * threads * (memorySize // (4*threads))\n",
    "\n",
    "    columnCount = blockCount // threads\n",
    "    \n",
    "    B = [[None for _ in range(columnCount)] for _ in range(threads)]\n",
    "    for i in range(threads):\n",
    "        zero, one = 0, 1\n",
    "        B[i][0] = Hash(H0 + zero.to_bytes(4, \"little\") + i.to_bytes(4, \"little\"), 1024)\n",
    "        B[i][1] = Hash(H0 + one.to_bytes(4, \"little\") + i.to_bytes(4, \"little\"), 1024)\n",
    "        \n",
    "    \n",
    "    for j in range(2, columnCount):\n",
    "        for i in range(threads):\n",
    "            i2, j2 = GetBlockIndexes(i, j, 1)\n",
    "            B[i][j] = G(B[i][j-1], B[i2][j2])\n",
    "\n",
    "    if debug:\n",
    "        print(\"After pass 1:\")\n",
    "        log(B, very_verbose)\n",
    "                    \n",
    "    \n",
    "    for nIter in range(2, iterations+1):\n",
    "        for j in range(columnCount):\n",
    "            for i in range(threads):\n",
    "                if j == 0:\n",
    "                    i2, j2 = GetBlockIndexes(i, j, nIter)\n",
    "                    B[i][0] = xor(B[i][0], G(B[i][columnCount-1], B[i2][j2]))\n",
    "                else:\n",
    "                    i2, j2 = GetBlockIndexes(i, j, nIter)\n",
    "                    B[i][j] = xor(B[i][j], G(B[i][j-1], B[i2][j2]))\n",
    "        if debug:\n",
    "            print(f\"After pass {nIter}:\")\n",
    "            log(B, very_verbose)\n",
    "\n",
    "    C = B[0][columnCount-1]\n",
    "    for i in range(1, threads):\n",
    "        C = xor(C, B[i][columnCount-1])\n",
    "    \n",
    "    return Hash(C, outLen)"
   ]
  },
  {
   "cell_type": "code",
   "execution_count": 7,
   "id": "343da375",
   "metadata": {},
   "outputs": [],
   "source": [
    "# test vector from RFC specification\n",
    "memorySize = 32 # KiB\n",
    "iterations = 3\n",
    "threads = 4\n",
    "outLen = 32 # bytes\n",
    "password = long_to_bytes(1) * 32\n",
    "salt = long_to_bytes(2) * 16\n",
    "secret = long_to_bytes(3) * 8\n",
    "data = long_to_bytes(4) * 12\n",
    "firstBlockFirstPart = \"db2fea6b2c6f5c8a\"\n",
    "lastBlockFirstPart = \"28d17914aea9734c\"\n",
    "correctHashStart = \"512b391b6f116297\""
   ]
  },
  {
   "cell_type": "code",
   "execution_count": 8,
   "id": "7ff937ca",
   "metadata": {
    "scrolled": false
   },
   "outputs": [
    {
     "name": "stdout",
     "output_type": "stream",
     "text": [
      "Initial digest b8819791a0359660bb7709c85fa48f04d5d82c05c5f215ccdb885491717cf757082c28b951be381410b5fc2eb7274033b9fdc7ae672bcaac5d179097a4af3109\n",
      "After pass 1:\n",
      "Block 0000 [  1]: db2fea6b2c6f5c8a\n",
      "Last block [127]: 6a6c49d2cb75d5b6\n",
      "After pass 2:\n",
      "Block 0000 [  1]: d3801200410f8c0d\n",
      "Last block [127]: 2dbfff23f31b5883\n",
      "After pass 3:\n",
      "Block 0000 [  1]: 5f047b575c5ff4d2\n",
      "Last block [127]: c341b3ca45c10da5\n"
     ]
    },
    {
     "data": {
      "text/plain": [
       "'512b391b6f1162975371d30919734294f868e3be3984f3c1a13a4db9fabe4acb'"
      ]
     },
     "execution_count": 8,
     "metadata": {},
     "output_type": "execute_result"
    }
   ],
   "source": [
    "argon2(password, salt, threads, outLen, memorySize, iterations, key=secret, data=data, debug=True).hex()"
   ]
  },
  {
   "cell_type": "code",
   "execution_count": 9,
   "id": "ea8cd78b",
   "metadata": {},
   "outputs": [],
   "source": [
    "import time\n",
    "def measure_execution_time(func, *func_args, **func_kwargs):\n",
    "    start = time.time()\n",
    "    func(*func_args, **func_kwargs)\n",
    "    return time.time() - start"
   ]
  },
  {
   "cell_type": "code",
   "execution_count": 10,
   "id": "6ca85b38",
   "metadata": {},
   "outputs": [],
   "source": [
    "kwargs = {\n",
    "    \"password\": password,\n",
    "    \"salt\": salt,\n",
    "    \"threads\": threads,\n",
    "    \"outLen\": outLen,\n",
    "    \"memorySize\": memorySize,\n",
    "    \"iterations\": iterations,\n",
    "    \"key\": secret,\n",
    "    \"data\": data,\n",
    "    \"debug\": False}"
   ]
  },
  {
   "cell_type": "code",
   "execution_count": 11,
   "id": "c70631d8",
   "metadata": {},
   "outputs": [],
   "source": [
    "import matplotlib.pyplot as plt\n",
    "\n",
    "def plot_times(func, func_kwargs, changing_param, param_range: list, title=\"\"):\n",
    "    func_kwargs = func_kwargs.copy()\n",
    "    times = []\n",
    "    for p in param_range:\n",
    "        func_kwargs[changing_param] = p\n",
    "        times.append(measure_execution_time(func, **func_kwargs))\n",
    "    fig, ax = plt.subplots()\n",
    "    ax.scatter(param_range, times)\n",
    "    ax.set_xlabel(changing_param)\n",
    "    ax.set_ylabel(\"Time to calculate [s]\")\n",
    "    plt.show()"
   ]
  },
  {
   "cell_type": "code",
   "execution_count": 12,
   "id": "a6609042",
   "metadata": {},
   "outputs": [
    {
     "data": {
      "image/png": "[encoded data removed]",
      "text/plain": [
       "<Figure size 432x288 with 1 Axes>"
      ]
     },
     "metadata": {
      "needs_background": "light"
     },
     "output_type": "display_data"
    }
   ],
   "source": [
    "plot_times(argon2, kwargs, \"iterations\", list(range(1, 30)))"
   ]
  },
  {
   "cell_type": "code",
   "execution_count": 13,
   "id": "6a362208",
   "metadata": {},
   "outputs": [
    {
     "data": {
      "image/png": "[encoded data removed]",
      "text/plain": [
       "<Figure size 432x288 with 1 Axes>"
      ]
     },
     "metadata": {
      "needs_background": "light"
     },
     "output_type": "display_data"
    }
   ],
   "source": [
    "plot_times(argon2, kwargs, \"memorySize\", [2 ** i for i in range(5, 10)])"
   ]
  },
  {
   "cell_type": "code",
   "execution_count": 14,
   "id": "db0d0f14",
   "metadata": {},
   "outputs": [],
   "source": [
    "from itertools import product as prod\n",
    "def crack_argon(digest, params, log=False):\n",
    "    if log:\n",
    "        print(params)\n",
    "    alphabet = \"abcdefghijklmnopqrstuvwxyzABCDEFGHIJKLMNOPQRSTUVWXYZ0123456789!@#$%^&*()\"\n",
    "    length = 0\n",
    "    while True:\n",
    "        passwords = prod(alphabet, repeat=length)\n",
    "        for password in passwords:\n",
    "            password = bytes(\"\".join(password), encoding='ascii')\n",
    "            params[\"password\"] = password\n",
    "            if argon2(**params).hex() == digest:\n",
    "                print(\"Password:\", password.decode('ascii'))\n",
    "                return password\n",
    "        length += 1\n",
    "        if log:\n",
    "            print(f\"Checking length {length}\")"
   ]
  },
  {
   "cell_type": "code",
   "execution_count": 15,
   "id": "c2b93259",
   "metadata": {},
   "outputs": [
    {
     "name": "stdout",
     "output_type": "stream",
     "text": [
      "Password: a\n",
      "Password: a\n",
      "Password: 1\n",
      "Password: 1\n",
      "Password: ab\n",
      "Password: ab\n",
      "Password: 12\n",
      "Password: 12\n",
      "Password: abc\n",
      "Password: abc\n"
     ]
    },
    {
     "data": {
      "image/png": "[encoded data removed]",
      "text/plain": [
       "<Figure size 432x288 with 1 Axes>"
      ]
     },
     "metadata": {
      "needs_background": "light"
     },
     "output_type": "display_data"
    }
   ],
   "source": [
    "import hashlib\n",
    "\n",
    "\n",
    "def crack_sha256(digest, log=False):\n",
    "    alphabet = \"abcdefghijklmnopqrstuvwxyzABCDEFGHIJKLMNOPQRSTUVWXYZ0123456789!@#$%^&*()\"\n",
    "    length = 0\n",
    "    while True:\n",
    "        passwords = prod(alphabet, repeat=length)\n",
    "        for password in passwords:\n",
    "            p = bytes(\"\".join(password), encoding='ascii')\n",
    "            h = hashlib.sha256(p)\n",
    "            if h.hexdigest() == digest:\n",
    "                print(\"Password:\", p.decode('ascii'))\n",
    "                return password\n",
    "        length += 1\n",
    "        if log:\n",
    "            print(f\"Checking length {length}\")\n",
    "    \n",
    "kwargs[\"threads\"] = 1\n",
    "kwargs[\"iterations\"] = 3\n",
    "times_argon = []\n",
    "times_sha = []\n",
    "passwords = [\"a\", \"1\", \"ab\", \"12\", \"abc\"]\n",
    "for p in passwords:\n",
    "    kwargs[\"password\"] = p.encode('ascii')\n",
    "    digest_argon = argon2(**kwargs).hex()\n",
    "    digest_sha = hashlib.sha256(p.encode('ascii')).hexdigest()\n",
    "    times_argon.append(measure_execution_time(crack_argon, digest_argon, kwargs))\n",
    "    times_sha.append(measure_execution_time(crack_sha256, digest_sha))\n",
    "\n",
    "fig, ax = plt.subplots()\n",
    "ax.scatter([1, 1, 2, 2, 3], times_argon, label='Argon2d')\n",
    "ax.scatter([1, 1, 2, 2, 3], times_sha, label='SHA-256')\n",
    "ax.set_xlabel(\"Password length\")\n",
    "ax.set_ylabel(\"Time to crack [s]\")\n",
    "ax.legend()\n",
    "plt.show()"
   ]
  }
 ],
 "metadata": {
  "kernelspec": {
   "display_name": "Python 3 (ipykernel)",
   "language": "python",
   "name": "python3"
  },
  "language_info": {
   "codemirror_mode": {
    "name": "ipython",
    "version": 3
   },
   "file_extension": ".py",
   "mimetype": "text/x-python",
   "name": "python",
   "nbconvert_exporter": "python",
   "pygments_lexer": "ipython3",
   "version": "3.9.12"
  }
 },
 "nbformat": 4,
 "nbformat_minor": 5
}
